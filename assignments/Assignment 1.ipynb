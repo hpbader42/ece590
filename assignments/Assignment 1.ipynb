{
 "cells": [
  {
   "cell_type": "markdown",
   "metadata": {},
   "source": [
    "# Assignment 1 - Probability, Linear Algebra, Programming, and Git\n",
    "\n",
    "## *Hayden Bader*\n",
    "Netid:  *hpb3*"
   ]
  },
  {
   "cell_type": "markdown",
   "metadata": {},
   "source": [
    "# Probability and Statistics Theory"
   ]
  },
  {
   "cell_type": "markdown",
   "metadata": {
    "collapsed": true
   },
   "source": [
    "## 1\n",
    "Let $f(x) = \\begin{cases}\n",
    "                0           & x < 0  \\\\\n",
    "                \\alpha x^2  & 0 \\leq x \\leq 2 \\\\\n",
    "                0           & 2 < x\n",
    "            \\end{cases}$\n",
    "            \n",
    "For what value of $\\alpha$ is $f(x)$ a valid probability density function?\n",
    "\n",
    "*Note: for all assignments, write out all equations and math for all assignments using markdown and [LaTeX](https://tobi.oetiker.ch/lshort/lshort.pdf) and show all work*"
   ]
  },
  {
   "cell_type": "markdown",
   "metadata": {},
   "source": [
    "**ANSWER**\n",
    "\n",
    "a = 3/8\n"
   ]
  },
  {
   "cell_type": "markdown",
   "metadata": {},
   "source": [
    "## 2\n",
    "What is the cumulative distribution function (CDF) that corresponds to the following probability distribution function? Please state the value of the CDF for all possible values of $x$.\n",
    "\n",
    "$f(x) = \\begin{cases}\n",
    "    \\frac{1}{3} & 0 < x < 3 \\\\\n",
    "    0           & \\text{otherwise}\n",
    "    \\end{cases}$"
   ]
  },
  {
   "cell_type": "markdown",
   "metadata": {},
   "source": [
    "**ANSWER**\n",
    "\n",
    "$F(x) = \\begin{cases}\n",
    "    \\frac{1}{3}x & 0 < x < 3 \\\\\n",
    "    1           & \\text{otherwise}\n",
    "    \\end{cases}$\n"
   ]
  },
  {
   "cell_type": "markdown",
   "metadata": {},
   "source": [
    "## 3\n",
    "For the probability distribution function for the random variable $X$,\n",
    "\n",
    "$f(x) = \\begin{cases}\n",
    "    \\frac{1}{3} & 0 < x < 3 \\\\\n",
    "    0           & \\text{otherwise}\n",
    "    \\end{cases}$\n",
    "    \n",
    "what is the (a) expected value and (b) variance of $X$. *Show all work*."
   ]
  },
  {
   "cell_type": "markdown",
   "metadata": {},
   "source": [
    "**ANSWER**\n",
    "\n",
    "(a) Expected value:\n",
    "\n",
    "\n",
    "\n",
    "EV $=\\int_0^3 x*f(x) $ dx\n",
    "\n",
    "$ =\\int_0^3 \\frac{1}{3} x $ dx\n",
    "\n",
    "$ =\\frac{1}{6} x^2 \\biggr]_0^3$\n",
    "\n",
    "$ =1.5$\n",
    "\n",
    "\n",
    "(b) Variance:\n",
    "\n",
    "Var $= \\int_0^3 (x-EV)^2 * f(x) $ dx\n",
    "\n",
    "$=\\int_0^3 \\frac{1}{3} (x^2 - 3x + 2.25) $ dx\n",
    "\n",
    "$=\\frac{1}{9}x^3 - \\frac{3}{6}x^2 + \\frac{2.25}{3}x \\biggr]_0^3 $\n",
    "\n",
    "$ = 3 - 4.5 + 2.25 $\n",
    "\n",
    "$ = .75 $\n"
   ]
  },
  {
   "cell_type": "markdown",
   "metadata": {},
   "source": [
    "## 4\n",
    "Consider the following table of data that provides the values of a discrete data vector $\\mathbf{x}$ of samples from the random variable $X$, where each entry in $\\mathbf{x}$ is given as $x_i$.\n",
    "\n",
    "*Table 1. Dataset N=5 observations*\n",
    "\n",
    "|        | $x_0$ | $x_1$ | $x_2$ | $x_3$ | $x_4$ |\n",
    "|------  |-------|-------|-------|-------|-------|\n",
    "|$\\textbf{x}$| 2     | 3     | 10    | -1    | -1    |\n",
    "\n",
    "What is the (a) mean, (b) variance, and the  of the data? \n",
    "\n",
    "*Show all work. Your answer should include the definition of mean, median, and variance in the context of discrete data.*"
   ]
  },
  {
   "cell_type": "markdown",
   "metadata": {},
   "source": [
    "**ANSWER**\n",
    "\n",
    "(a) Mean\n",
    "\n",
    "AVG $=\\frac{1}{5}$ $ \\sum\\limits_{i=0}^4 $ $x_i$\n",
    "\n",
    "$= \\frac{13}{5} $\n",
    "\n",
    "\n",
    "(b) Variance\n",
    "\n",
    "VAR $= \\sum\\limits_{i=0}^4$ $(x_i - $AVG$)^2$ $p_i$\n",
    "\n",
    "$p_i = P(X=x) = 1/5$ in this case\n",
    "\n",
    "VAR $= \\frac{1}{5} \\sum\\limits_{i=0}^4$ $(x_i - $AVG$)^2$\n",
    "\n",
    "$= \\frac{1}{5} * \\frac{2030}{25} $\n",
    "\n",
    "$=16.24$\n",
    "\n"
   ]
  },
  {
   "cell_type": "markdown",
   "metadata": {},
   "source": [
    "## 5\n",
    "Review of counting from probability theory. \n",
    "\n",
    "(a) How many different 7-place licence plates are possible if the first 3 places only contain letters and te last 4 only contain numbers?\n",
    "\n",
    "(b) How many different batting orders are possible for a baseball team with 9 players?\n",
    "\n",
    "(c) How many batting orders of 5 players are possible for a team with 9 players total?\n",
    "\n",
    "(d) Let's assume this class has 26 students and we want to form project teams. How many unique teams of 3 are possible?\n",
    "\n",
    "*Hint: For each problem, determine if order matters, and if it should be calculated with or without replacement.*"
   ]
  },
  {
   "cell_type": "markdown",
   "metadata": {},
   "source": [
    "**ANSWER**\n",
    "\n",
    "(a) $26^3 * 10^4$ = $175,760,000$\n",
    "\n",
    "(b) $9!$ = $362,880$\n",
    "\n",
    "(c) $\\frac{9!}{4!}$ = $15,120$\n",
    "\n",
    "(d) $26*25*24$ = $15,600$\n",
    "\n"
   ]
  },
  {
   "cell_type": "markdown",
   "metadata": {},
   "source": [
    "# Linear Algebra"
   ]
  },
  {
   "cell_type": "markdown",
   "metadata": {},
   "source": [
    "## 6\n",
    "**Matrix manipulations and multiplication**. Machine learning involves working with many matrices, so this exercise will provide you with the opportunity to practice those skills.\n",
    "\n",
    "Let\n",
    "$\\mathbf{A} =  \\begin{bmatrix}\n",
    "1 & 2 & 3 \\\\\n",
    "2 & 4 & 5 \\\\\n",
    "3 & 5 & 6 \n",
    "\\end{bmatrix}$, $\\mathbf{b} =  \\begin{bmatrix}\n",
    "-1  \\\\\n",
    "3  \\\\\n",
    "8  \n",
    "\\end{bmatrix}$, $\\mathbf{c} =  \\begin{bmatrix}\n",
    "4  \\\\\n",
    "-3  \\\\\n",
    "6  \n",
    "\\end{bmatrix}$, and $\\mathbf{I} =  \\begin{bmatrix}\n",
    "1 & 0 & 0 \\\\\n",
    "0 & 1 & 0 \\\\\n",
    "0 & 0 & 1 \n",
    "\\end{bmatrix}$\n",
    "\n",
    "Compute the following or indicate that it cannot be computed:\n",
    "\n",
    "1. $\\mathbf{A}\\mathbf{A}$\n",
    "2. $\\mathbf{A}\\mathbf{A}^T$\n",
    "3. $\\mathbf{A}\\mathbf{b}$\n",
    "4. $\\mathbf{A}\\mathbf{b}^T$\n",
    "5. $\\mathbf{b}\\mathbf{A}$\n",
    "6. $\\mathbf{b}^T\\mathbf{A}$\n",
    "7. $\\mathbf{b}\\mathbf{b}$\n",
    "8. $\\mathbf{b}^T\\mathbf{b}$\n",
    "9. $\\mathbf{b}\\mathbf{b}^T$\n",
    "10. $\\mathbf{b} + \\mathbf{c}^T$\n",
    "11. $\\mathbf{b}^T\\mathbf{b}^T$\n",
    "12. $\\mathbf{A}^{-1}\\mathbf{b}$\n",
    "13. $\\mathbf{A}\\circ\\mathbf{A}$\n",
    "14. $\\mathbf{b}\\circ\\mathbf{c}$\n",
    "\n",
    "*Note: The element-wise (or Hadamard) product is the product of each element in one matrix with the corresponding element in another matrix, and is represented by the symbol \"$\\circ$\".*"
   ]
  },
  {
   "cell_type": "markdown",
   "metadata": {},
   "source": [
    "**ANSWER**\n",
    "\n",
    "1.  $\\begin{bmatrix}\n",
    "14 & 25 & 31 \\\\\n",
    "25 & 45 & 56 \\\\\n",
    "31 & 56 & 70 \n",
    "\\end{bmatrix}$\n",
    "2.  $\\begin{bmatrix}\n",
    "14 & 25 & 31 \\\\\n",
    "25 & 45 & 56 \\\\\n",
    "31 & 56 & 70\n",
    "\\end{bmatrix}$\n",
    "3.  $\\begin{bmatrix}\n",
    "29 \\\\\n",
    "50 \\\\\n",
    "60 \n",
    "\\end{bmatrix}$\n",
    "4. Cannot be computed\n",
    "5. Cannot be computed\n",
    "6. $\\begin{bmatrix}\n",
    "29 & 50 & 60 \\\\\n",
    "\\end{bmatrix}$\n",
    "7. Cannot be computed\n",
    "8. $\\begin{bmatrix}\n",
    "74 \n",
    "\\end{bmatrix}$\n",
    "9.  $\\begin{bmatrix}\n",
    "1 & -3 & -8 \\\\\n",
    "-3 & 9 & 24 \\\\\n",
    "-8 & 24 & 64 \n",
    "\\end{bmatrix}$\n",
    "10. Cannot be computed\n",
    "11. Cannot be computed\n",
    "12.  $\\begin{bmatrix}\n",
    "14\\\\\n",
    "4\\\\\n",
    "-5 \n",
    "\\end{bmatrix}$\n",
    "13. $\\begin{bmatrix}\n",
    "1 & 4 & 9 \\\\\n",
    "4 & 16 & 25 \\\\\n",
    "9 & 25 & 36 \n",
    "\\end{bmatrix}$\n",
    "14.  $\\begin{bmatrix}\n",
    "-4 \\\\\n",
    "-9 \\\\\n",
    "48 \n",
    "\\end{bmatrix}$\n"
   ]
  },
  {
   "cell_type": "markdown",
   "metadata": {},
   "source": [
    "## 6\n",
    "**Eigenvectors and eigenvalues**. Eigenvectors and eigenvalues are useful for some machine learning algorithms, but the concepts take time to solidly grasp. For an intuitive review of these concepts, explore this [interactive website at Setosa.io](http://setosa.io/ev/eigenvectors-and-eigenvalues/). Also, the series of linear algebra videos by Grant Sanderson of 3Brown1Blue are excellent and can be viewed on youtube [here](https://www.youtube.com/playlist?list=PLZHQObOWTQDPD3MizzM2xVFitgF8hE_ab).\n",
    "\n",
    "1. Calculate the eigenvalues and corresponding eigenvectors of matrix $\\mathbf{A}$ above, from the last question.\n",
    "2. Choose one of the eigenvector/eigenvalue pairs, $\\mathbf{v}$ and $\\lambda$, and show that $\\mathbf{A} \\mathbf{v} = \\lambda \\mathbf{v}$. Also show that this relationship extends to higher orders: $\\mathbf{A} \\mathbf{A} \\mathbf{v} = \\lambda^2 \\mathbf{v}$\n",
    "3. Show that the eigenvectors are orthogonal to one another (e.g. their inner product is zero). This is true for real, symmetric matrices."
   ]
  },
  {
   "cell_type": "markdown",
   "metadata": {},
   "source": [
    "**ANSWER**\n",
    "\n",
    "1) $\\lambda \\approx -0.51573, 0.17092, 11.3448 $\n",
    "\n",
    "$\\mathbf{v} $ for $\\lambda \\approx 11.3448 \\approx \\begin{bmatrix} 0.44504 \\\\ 0.80194 \\\\ 1 \\end{bmatrix}$\n",
    "\n",
    "$\\mathbf{v} $ for $\\lambda \\approx -0.51573 \\approx \\begin{bmatrix} -1.247 \\\\ -0.555 \\\\ 1 \\end{bmatrix}$\n",
    "\n",
    "$\\mathbf{v} $ for $\\lambda \\approx 0.17092 \\approx \\begin{bmatrix} 1.802 \\\\ -2.247 &\\\\ 1 \\end{bmatrix}$\n",
    "\n",
    "2)a)\n",
    "$\\mathbf{A}\\mathbf{v} =  \\begin{bmatrix}\n",
    "1 & 2 & 3 \\\\\n",
    "2 & 4 & 5 \\\\\n",
    "3 & 5 & 6 \n",
    "\\end{bmatrix}\n",
    "\\begin{bmatrix} 0.44504 \\\\ 0.80194 \\\\ 1 \\end{bmatrix}$\n",
    "\n",
    "$=\\begin{bmatrix} 5.04892 \\\\ 9.09784 \\\\ 11.3448\\end{bmatrix}$\n",
    "\n",
    "$ 11.3448 \\begin{bmatrix} 0.44504 \\\\ 0.80194 \\\\ 1 \\end{bmatrix}$\n",
    "\n",
    "$ = \\begin{bmatrix} 5.04889\\\\ 9.0978\\\\ 11.3448 \\end{bmatrix} $\n",
    "\n",
    "The values are not exact, but they are pretty close.\n",
    "\n",
    "b) Using results from Linear Algebra section for $\\mathbf{A}\\mathbf{A}$\n",
    "\n",
    "$\\mathbf{A}\\mathbf{A}\\mathbf{v} =  \\begin{bmatrix} 57.27906\\\\ 103.213\\\\ 128.705 \\end{bmatrix}$\n",
    "\n",
    "$\\lambda^2 = 128.704 $\n",
    "\n",
    "$\\lambda^2 \\mathbf{v} = \\begin{bmatrix} 57.279\\\\ 103.212\\\\ 128.704 \\end{bmatrix}$\n",
    "\n",
    "3)\n",
    "\n",
    "$ 0.44504*-1.247 + 0.80194*-0.555 + 1 \\approx 0$\n",
    "\n",
    "$ 0.44504*1.802 + 0.80194*-2.247 + 1 \\approx 0$\n",
    "\n",
    "$ 1.802*-1.247 + -2.247*-0.555 + 1 \\approx 0$\n"
   ]
  },
  {
   "cell_type": "markdown",
   "metadata": {},
   "source": [
    "# Numerical Programming"
   ]
  },
  {
   "cell_type": "markdown",
   "metadata": {},
   "source": [
    "## 7\n",
    "Speed comparison between vectorized and non-vectorized code. Begin by creating an array of 10 million random numbers using the numpy random.randn module. Compute the sum of the squares first in a for loop, then using Numpy's `dot` module. Time how long it takes to compute each and report the results and report the output. How many times faster is the vectorized code than the for loop approach?\n",
    "\n",
    "*Note: all code should be well commented, properly formatted, and your answers should be output using the `print()` function as follows (where the # represents your answers, to a reasonable precision):\n",
    "\n",
    "`Time [sec] (non-vectorized): ######`\n",
    "\n",
    "`Time [sec] (vectorized):     ######`\n",
    "\n",
    "`The vectorized code is ##### times faster than the vectorized code`"
   ]
  },
  {
   "cell_type": "markdown",
   "metadata": {},
   "source": [
    "**ANSWER**"
   ]
  },
  {
   "cell_type": "code",
   "execution_count": 71,
   "metadata": {},
   "outputs": [
    {
     "name": "stdout",
     "output_type": "stream",
     "text": [
      "Time [sec] (non-vectorized):  5.1374026292069175\n",
      "Time [sec] (vectorized):  0.04065882537543075\n",
      "The vectorized code is  126.35393624310993  times faster than the non-vectorized code\n"
     ]
    }
   ],
   "source": [
    "import numpy as np\n",
    "import time\n",
    "\n",
    "# Generate the random samples\n",
    "random_vect = np.random.randn(10000000)\n",
    "empty_vect = np.arange(10000000)\n",
    "vectorized_res = np.arange(10000000)\n",
    "#create two empty arrays so that object creation doesn't factor in\n",
    "#Compute the sum of squares the non-vectorized way (using a for loop)\n",
    "counter = 0\n",
    "\n",
    "begin = time.clock()\n",
    "for a in random_vect:\n",
    "    empty_vect[counter] = a*a\n",
    "    counter = counter+1\n",
    "l_time = time.clock()-begin\n",
    "# Compute the sum of squares the vectorized way (using numpy)\n",
    "begin = time.clock()\n",
    "vectorized_res = np.square(random_vect)\n",
    "v_time = time.clock()-begin\n",
    "# Print the results\n",
    "print(\"Time [sec] (non-vectorized): \", l_time)\n",
    "print(\"Time [sec] (vectorized): \", v_time)\n",
    "ratio = l_time/v_time\n",
    "print(\"The vectorized code is \" , ratio , \" times faster than the non-vectorized code\")\n"
   ]
  },
  {
   "cell_type": "markdown",
   "metadata": {},
   "source": [
    "## 8\n",
    "One popular Agile development framework is Scrum (a paradigm recommended for data science projects). It emphasizes the continual evolution of code for projects, becoming progressively better, but starting with a quickly developed minimum viable product. This often means that code written early on is not optimized, and that's a good thing - it's best to get it to work first before optimizing. Imagine that you wrote the following code during a sprint towards getting an end-to-end system working. Vectorize the following code and show the difference in speed between the current implementation and a vectorized version.\n",
    "\n",
    "The function below computes the function $f(x,y) = x^2 - 2 y^2$ and determines whether this quantity is above or below a given threshold, `thresh=0`. This is done for $x,y \\in \\{-4,4\\}$, over a 2,000-by-2,000 grid covering that domain.\n",
    "\n",
    "(a) Vectorize this code and demonstrate (as in the last exercise) the speed increase through vectorization and (b) plot the resulting data - both the function $f(x,y)$ and the thresholded output - using [`imshow`](https://matplotlib.org/api/_as_gen/matplotlib.pyplot.imshow.html?highlight=matplotlib%20pyplot%20imshow#matplotlib.pyplot.imshow) from `matplotlib`.\n",
    "\n",
    "*Hint: look at the `numpy` [`meshgrid`](https://docs.scipy.org/doc/numpy-1.13.0/reference/generated/numpy.meshgrid.html) documentation*"
   ]
  },
  {
   "cell_type": "code",
   "execution_count": 72,
   "metadata": {},
   "outputs": [
    {
     "name": "stdout",
     "output_type": "stream",
     "text": [
      "Time [sec] (non-vectorized):  9.521244827192277\n",
      "Time [sec] (vectorized):  0.07102899758319836\n",
      "The vectorized code is  134.04729267141582  times faster than the non-vectorized code\n"
     ]
    },
    {
     "data": {
      "image/png": "[encoded data removed]",
      "text/plain": [
       "<matplotlib.figure.Figure at 0x1e8ad338eb8>"
      ]
     },
     "metadata": {},
     "output_type": "display_data"
    },
    {
     "data": {
      "image/png": "[encoded data removed]",
      "text/plain": [
       "<matplotlib.figure.Figure at 0x1e8acd8ea20>"
      ]
     },
     "metadata": {},
     "output_type": "display_data"
    }
   ],
   "source": [
    "import numpy as np\n",
    "import time\n",
    "import matplotlib.pyplot as plt\n",
    "\n",
    "# Initialize variables for this exerise\n",
    "x = np.linspace(-4,4,2000)\n",
    "y = np.linspace(-4,4,2000)\n",
    "n_xx, n_yy = np.meshgrid(x, y)\n",
    "res = n_xx.copy()\n",
    "v_xx, v_yy = np.meshgrid(x,y)\n",
    "v_res = v_xx.copy()\n",
    "thresh = 0\n",
    "#initialize objects at the beginning\n",
    "\n",
    "# Nonvectorized implementation\n",
    "\n",
    "begin = time.clock()\n",
    "for i in range(0, len(n_xx[0,:])):\n",
    "    for j in range(0, len(n_xx[:,0])):\n",
    "        res[i,j] = (n_xx[i,j]*n_xx[i,j] - 2*n_yy[i,j]*n_yy[i,j])>thresh\n",
    "ntime = time.clock()-begin\n",
    "# Vectorized implementation\n",
    "\n",
    "begin = time.clock()\n",
    "v_res = (np.square(v_xx) - 2*(np.square(v_yy))) > thresh\n",
    "vtime = time.clock()-begin\n",
    "# Print the time for each and the speed increase\n",
    "print(\"Time [sec] (non-vectorized): \", ntime)\n",
    "print(\"Time [sec] (vectorized): \", vtime)\n",
    "ratio = ntime/vtime\n",
    "print(\"The vectorized code is \" , ratio , \" times faster than the non-vectorized code\")\n",
    "#print(res)\n",
    "#print(v_res)\n",
    "# Plot the result\n",
    "plt.imshow(v_res, extent=[-4,4,-4,4])\n",
    "plt.title(\"Vectorized Results\")\n",
    "plt.show()\n",
    "\n",
    "plt.imshow(res, extent=[-4,4,-4,4])\n",
    "plt.title(\"Non-vectorized Results\")\n",
    "plt.show()"
   ]
  },
  {
   "cell_type": "markdown",
   "metadata": {},
   "source": [
    "## 9\n",
    "This exercise will walk through some basic numerical programming exercises.\n",
    "1. Synthesize $n=10^4$ normally distributed data points with mean $\\mu=2$ and a standard deviation of $\\sigma=1$. Call these observations from a random variable $X$, and call the vector of observations that you generate, $\\textbf{x}$.\n",
    "2. Calculate the mean and standard deviation of $\\textbf{x}$ to validate (1) and provide the result to a precision of four significant figures.\n",
    "3. Plot a histogram of the data in $\\textbf{x}$ with 30 bins\n",
    "4. What is the 90th percentile of $\\textbf{x}$? The 90th percentile is the value below which 90% of observations can be found.\n",
    "5. What is the 99th percentile of $\\textbf{x}$?\n",
    "6. Now synthesize $n=10^4$ normally distributed data points with mean $\\mu=0$ and a standard deviation of $\\sigma=3$. Call these observations from a random variable $Y$, and call the vector of observations that you generate, $\\textbf{y}$.\n",
    "7. Plot the histogram of the data in $\\textbf{y}$ on a (new) plot with the histogram of $\\textbf{x}$, so that both histograms can be seen and compared.\n",
    "8. Using the observations from $\\textbf{x}$ and $\\textbf{y}$, estimate $E[XY]$"
   ]
  },
  {
   "cell_type": "markdown",
   "metadata": {},
   "source": [
    "**ANSWER**"
   ]
  },
  {
   "cell_type": "code",
   "execution_count": 73,
   "metadata": {},
   "outputs": [
    {
     "name": "stdout",
     "output_type": "stream",
     "text": [
      "mean:  1.99317120585   std dev:  1.00776470223\n",
      "90th percentile of x  3.25989622478\n",
      "99th percentile of x  4.37945894731\n"
     ]
    },
    {
     "data": {
      "text/plain": [
       "<matplotlib.figure.Figure at 0x1e8ac225588>"
      ]
     },
     "metadata": {},
     "output_type": "display_data"
    },
    {
     "data": {
      "image/png": "[encoded data removed]",
      "text/plain": [
       "<matplotlib.figure.Figure at 0x1e8abd62ef0>"
      ]
     },
     "metadata": {},
     "output_type": "display_data"
    }
   ],
   "source": [
    "import numpy as np\n",
    "import matplotlib.pyplot as plt\n",
    "plt.clf()\n",
    "# 1\n",
    "mu = 2\n",
    "sigma = 1\n",
    "numel = 10000\n",
    "x = sigma * np.random.randn(numel) + mu\n",
    "# 2\n",
    "mean = np.mean(x)\n",
    "std = np.std(x)\n",
    "\n",
    "print(\"mean: \", mean,\"  std dev: \", std)\n",
    "# 3\n",
    "#p1 = plt.subplot(2,1,1)\n",
    "blank, (p1, p2) = plt.subplots(2, 1, sharex=True);\n",
    "p1.hist(x,30)\n",
    "p1.set_title(\"Histogram of x with 30 bins\")\n",
    "plt.subplots_adjust(hspace=1);\n",
    "#plt.show()\n",
    "\n",
    "# 4\n",
    "print(\"90th percentile of x \",np.percentile(x, 90))\n",
    "\n",
    "# 5\n",
    "print(\"99th percentile of x \",np.percentile(x,99))\n",
    "\n",
    "# 6\n",
    "y = 3 * np.random.randn(numel) + 0\n",
    "\n",
    "# 7\n",
    "p2 = plt.subplot(2,1,2);\n",
    "p2.hist(y,30);\n",
    "p2.set_title(\"Histogram of y with 30 bins\")\n",
    "plt.show()\n",
    "\n",
    "# 8\n",
    "#E[XY] is between 0 and 2. It's actually probably between 1 and 2 since the standard deviation of plt1 is lower than that of plot 2.\n",
    "#As a result, I'd estimate about 1.2 looking at the plots"
   ]
  },
  {
   "cell_type": "markdown",
   "metadata": {},
   "source": [
    "## 10\n",
    "Estimate the integral of the function $f(x)$ on the interval $0\\leq x < 2.5$ assuming we only know the following points from $f$:\n",
    "\n",
    "*Table 1. Dataset containing n=5 observations*\n",
    "\n",
    "| $x_i$ | 0.0 | 0.5 | 1.0 | 1.5 | 2.0 |\n",
    "|-|-|-|-|-|-|\n",
    "| $y_i$ | 6 | 7 | 8 | 4 | 1 |\n"
   ]
  },
  {
   "cell_type": "markdown",
   "metadata": {},
   "source": [
    "**ANSWER**\n",
    "\n",
    "Using trapezoid method:\n",
    "\n",
    "$= 0.25 * (13 + 15 + 12 + 5)$\n",
    "\n",
    "$= 11.25 $\n",
    "\n"
   ]
  },
  {
   "cell_type": "markdown",
   "metadata": {
    "collapsed": true
   },
   "source": [
    "# Version Control via Git"
   ]
  },
  {
   "cell_type": "markdown",
   "metadata": {},
   "source": [
    "## 11\n",
    "Complete the [Atlassian Git tutorial](https://www.atlassian.com/git/tutorials/what-is-version-control), specifically the following sections. Try each concept that's presented. For this tutorial, instead of using BitBucket, use Github. Create a github account here if you don't already have one: https://github.com/\n",
    "1. [What is version control](https://www.atlassian.com/git/tutorials/what-is-version-control)\n",
    "2. [What is Git](https://www.atlassian.com/git/tutorials/what-is-git)\n",
    "3. [Install Git](https://www.atlassian.com/git/tutorials/install-git)\n",
    "4. [Setting up a repository](https://www.atlassian.com/git/tutorials/install-git)\n",
    "5. [Saving changes](https://www.atlassian.com/git/tutorials/saving-changes)\n",
    "6. [Inspecting a repository](https://www.atlassian.com/git/tutorials/inspecting-a-repository)\n",
    "7. [Undoing changes](https://www.atlassian.com/git/tutorials/undoing-changes)\n",
    "8. [Rewriting history](https://www.atlassian.com/git/tutorials/rewriting-history)\n",
    "9. [Syncing](https://www.atlassian.com/git/tutorials/syncing)\n",
    "10. [Making a pull request](https://www.atlassian.com/git/tutorials/making-a-pull-request)\n",
    "11. [Using branches](https://www.atlassian.com/git/tutorials/using-branches)\n",
    "12. [Comparing workflows](https://www.atlassian.com/git/tutorials/comparing-workflows)\n",
    "\n",
    "For your answer, affirm that you either completed the tutorial or have previous experience with all of the concepts above. Do this by typing your name below and selecting the situation that applies from the two options in brackets."
   ]
  },
  {
   "cell_type": "markdown",
   "metadata": {},
   "source": [
    "**ANSWER**\n",
    "\n",
    "*I, [**Hayden Bader**], affirm that I have [**I have previous experience that covers all the content in this tutorial**]*"
   ]
  },
  {
   "cell_type": "markdown",
   "metadata": {},
   "source": [
    "## 12\n",
    "Using Github to create a static HTML website:\n",
    "1. Create a branch in your `machine-learning-course` repo called \"gh-pages\" and checkout that branch (this will provide an example of how to create a simple static website using [Github Pages](https://pages.github.com/))\n",
    "2. Create a file called \"index.html\" with the contents \"Hello World\" and add, commit, and push it to that branch.\n",
    "3. Submit the following: (a) a link to your github repository and (b) a link to your new \"Hello World\" website. The latter should be at the address https://[USERNAME].github.io/ECE590-assignment0 (where [USERNAME] is your github username)."
   ]
  },
  {
   "cell_type": "markdown",
   "metadata": {},
   "source": [
    "**ANSWER**\n",
    "\n",
    "https://github.com/hpbader42/hpbader42.github.io\n",
    "\n",
    "https://hpbader42.github.io/\n"
   ]
  },
  {
   "cell_type": "markdown",
   "metadata": {
    "collapsed": true
   },
   "source": [
    "# Exploratory Data Analysis\n",
    "## 13\n",
    "Here you'll bring together some of the individual skills that you demonstrated above and create a Jupyter notebook based blog post on data analysis.\n",
    "\n",
    "1. Find a dataset that interests you and relates to a question or problem that you find intriguing\n",
    "2. Using a Jupyter notebook, describe the dataset, the source of the data, and the reason the dataset was of interest.\n",
    "3. Check the data and see if they need to be cleaned: are there missing values? Are there clearly erroneous values? Do two tables need to be merged together? Clean the data so it can be visualized.\n",
    "3. Plot the data, demonstrating interesting features that you discover. Are there any relationships between variables that were surprising or patterns that emerged? Please exercise creativity and curiosity in your plots.\n",
    "4. What insights are you able to take away from exploring the data? Is there a reason why analyzing the dataset you chose is particularly interesting or important? Summarize this as if your target audience was the readership of a major news organization - boil down your findings in a way that is accessible, but still accurate.\n",
    "5. Create a public repository on your github account titled \"machine-learning-course\". In it, create a readme file that contains the heading \"ECE590: Introductory Machine Learning for Data Science\". Add, commit, and push that Jupyter notebook to the master branch. Provide the link to the that post here."
   ]
  },
  {
   "cell_type": "code",
   "execution_count": null,
   "metadata": {
    "collapsed": true
   },
   "outputs": [],
   "source": [
    "#**ANSWER**\n",
    "\n",
    "#1)\n",
    "\n",
    "#2) Dataset is price of bitcoin over last few years. It's quite interesting to see how it has exploded in price recently.\n",
    "#Data obtained from https://99bitcoins.com/price-chart-history/\n",
    "\n",
    "#3) Not many missing values\n",
    "\n",
    "#4)\n",
    "import numpy as np\n",
    "import matplotlib.pyplot as plt\n",
    "#Had trouble actually importing the data - sorry\n",
    "\n",
    "\n",
    "#5)\n",
    "#Data obtained from https://99bitcoins.com/price-chart-history/\n",
    "#Is interesting because data also tracks what events influenced the price\n",
    "\n",
    "#6)\n",
    "\n",
    "\n",
    "\n"
   ]
  }
 ],
 "metadata": {
  "kernelspec": {
   "display_name": "Python 3",
   "language": "python",
   "name": "python3"
  },
  "language_info": {
   "codemirror_mode": {
    "name": "ipython",
    "version": 3
   },
   "file_extension": ".py",
   "mimetype": "text/x-python",
   "name": "python",
   "nbconvert_exporter": "python",
   "pygments_lexer": "ipython3",
   "version": "3.6.3"
  }
 },
 "nbformat": 4,
 "nbformat_minor": 2
}
